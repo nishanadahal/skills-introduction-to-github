{
  "cells": [
    {
      "cell_type": "markdown",
      "metadata": {
        "id": "view-in-github",
        "colab_type": "text"
      },
      "source": [
        "<a href=\"https://colab.research.google.com/github/nishanadahal/skills-introduction-to-github/blob/main/superhero_assignment.ipynb\" target=\"_parent\"><img src=\"https://colab.research.google.com/assets/colab-badge.svg\" alt=\"Open In Colab\"/></a>"
      ]
    },
    {
      "cell_type": "markdown",
      "id": "5fa8dcf6",
      "metadata": {
        "id": "5fa8dcf6"
      },
      "source": [
        "# Superhero Database Assignment (SQLite & Google Colab)\n",
        "\n",
        "## Objective\n",
        "In this assignment, you will design and implement a **Superhero Database** using SQLite in Google Colab. This database will store superheroes, villains, and their battles. You will write SQL queries to analyze battle outcomes and relationships between heroes and villains.\n",
        "\n",
        "### Group Size:\n",
        "- 2 to 3 students per group.\n",
        "\n",
        "### Tools Required:\n",
        "- **Google Colab**\n",
        "- **SQLite (built into Python)**\n",
        "- **CSV files (provided for import)**"
      ]
    },
    {
      "cell_type": "markdown",
      "id": "5535e625",
      "metadata": {
        "id": "5535e625"
      },
      "source": [
        "## Step 1: Setting Up Your SQLite Database\n",
        "\n",
        "### Tasks:\n",
        "1. Initialize SQLite in Google Colab.\n",
        "2. Create a database named `superhero_db.sqlite`.\n",
        "3. Define the database schema, ensuring it includes the following tables:\n",
        "   - `heroes`: Stores superhero names, powers, and teams.\n",
        "   - `villains`: Stores villains and their evil plans.\n",
        "   - `battles`: Tracks battles between heroes and villains, including the outcome.\n",
        "4. Implement primary keys and foreign keys where appropriate.\n",
        "\n",
        "✅ **Checkpoint:** Ensure that the database and tables have been successfully created.\n"
      ]
    },
    {
      "cell_type": "code",
      "source": [
        "import sqlite3\n",
        "connection = sqlite3.connect('superhero_db.sqlite')\n",
        "cursor = connection.cursor()\n",
        "\n",
        "cursor.execute('''\n",
        "CREATE TABLE IF NOT EXISTS heroes(\n",
        "id INTEGER PRIMARY KEY AUTOINCREMENT,\n",
        "name TEXT,\n",
        "power TEXT,\n",
        "team TEXT\n",
        ")''')\n",
        "\n",
        "cursor.execute('''\n",
        "CREATE TABLE IF NOT EXISTS battles(\n",
        "id INTEGER PRIMARY KEY AUTOINCREMENT,\n",
        "hero_id INTEGER,\n",
        "villain_id INTEGER,\n",
        "outcome TEXT\n",
        ")''')\n",
        "\n",
        "cursor.execute('''\n",
        "CREATE TABLE IF NOT EXISTS villains(\n",
        "id INTEGER PRIMARY KEY AUTOINCREMENT,\n",
        "name TEXT,\n",
        "evil_plan TEXT\n",
        ")''')\n",
        "\n",
        "connection.commit()\n",
        "\n",
        "print('Database has been successfully created along with the tables.')\n"
      ],
      "metadata": {
        "colab": {
          "base_uri": "https://localhost:8080/"
        },
        "id": "NPbXhnWr5Xrb",
        "outputId": "fdbf1b42-555a-4e68-8d44-ad6e05a003af"
      },
      "id": "NPbXhnWr5Xrb",
      "execution_count": 92,
      "outputs": [
        {
          "output_type": "stream",
          "name": "stdout",
          "text": [
            "Database has been successfully created along with the tables.\n"
          ]
        }
      ]
    },
    {
      "cell_type": "markdown",
      "id": "154b3c3a",
      "metadata": {
        "id": "154b3c3a"
      },
      "source": [
        "## Step 2: Import Data from CSV Files\n",
        "\n",
        "### Tasks:\n",
        "1. Download the provided CSV files.\n",
        "2. Upload them to Google Colab.\n",
        "3. Write a script to import data from these files into the appropriate tables.\n",
        "4. Verify that the data has been successfully inserted.\n",
        "\n",
        "✅ **Checkpoint:** Ensure that each table contains the expected data from the CSV files."
      ]
    },
    {
      "cell_type": "code",
      "source": [
        "import pandas as pd\n",
        "cursor.execute(\"DELETE FROM battles\")\n",
        "cursor.execute(\"DELETE FROM heroes\")\n",
        "cursor.execute(\"DELETE FROM villains\")\n",
        "\n",
        "dfbattles = pd.read_csv('battles.csv')\n",
        "dfbattles.to_sql('battles', connection, if_exists = 'replace', index = False)\n",
        "\n",
        "dfheroes = pd.read_csv('heroes.csv')\n",
        "dfheroes.to_sql('heroes', connection, if_exists = 'replace', index = False)\n",
        "\n",
        "dfvillains = pd.read_csv('villains.csv')\n",
        "dfvillains.to_sql('villains', connection, if_exists = 'replace', index = False)\n",
        "\n",
        "\n",
        "cursor.execute(\"SELECT * FROM battles\")\n",
        "rows = cursor.fetchall()\n",
        "\n",
        "print(\"All battles data:\")\n",
        "for row in rows:\n",
        "    print (row)\n",
        "\n",
        "cursor.execute(\"SELECT * FROM heroes\")\n",
        "rows = cursor.fetchall()\n",
        "print('All heroes data:')\n",
        "for row in rows:\n",
        "    print(row)\n",
        "\n",
        "\n",
        "cursor.execute(\"SELECT * FROM villains\")\n",
        "print('All villains data:')\n",
        "rows = cursor.fetchall()\n",
        "for row in rows:\n",
        "    print(row)\n",
        "\n",
        "print('Data has been successfully inserted into the tables!')"
      ],
      "metadata": {
        "colab": {
          "base_uri": "https://localhost:8080/"
        },
        "id": "iYVwidc58XCR",
        "outputId": "6235e36b-27eb-4666-b46e-a318623febd2"
      },
      "id": "iYVwidc58XCR",
      "execution_count": 96,
      "outputs": [
        {
          "output_type": "stream",
          "name": "stdout",
          "text": [
            "All battles data:\n",
            "(1, 1, 10, 'Villain Wins')\n",
            "(2, 9, 3, 'Hero Wins')\n",
            "(3, 8, 1, 'Draw')\n",
            "(4, 5, 4, 'Villain Wins')\n",
            "(5, 1, 7, 'Hero Wins')\n",
            "(6, 2, 8, 'Villain Wins')\n",
            "(7, 9, 8, 'Hero Wins')\n",
            "(8, 3, 2, 'Hero Wins')\n",
            "(9, 7, 5, 'Hero Wins')\n",
            "(10, 3, 1, 'Draw')\n",
            "(11, 1, 8, 'Villain Wins')\n",
            "(12, 2, 1, 'Draw')\n",
            "(13, 8, 9, 'Hero Wins')\n",
            "(14, 8, 1, 'Draw')\n",
            "(15, 6, 10, 'Draw')\n",
            "(16, 1, 1, 'Villain Wins')\n",
            "(17, 8, 3, 'Draw')\n",
            "(18, 6, 3, 'Villain Wins')\n",
            "(19, 4, 8, 'Villain Wins')\n",
            "(20, 3, 4, 'Hero Wins')\n",
            "(21, 8, 1, 'Draw')\n",
            "(22, 4, 9, 'Draw')\n",
            "(23, 3, 9, 'Draw')\n",
            "(24, 8, 9, 'Villain Wins')\n",
            "(25, 2, 5, 'Draw')\n",
            "(26, 3, 7, 'Draw')\n",
            "(27, 10, 3, 'Draw')\n",
            "(28, 3, 8, 'Draw')\n",
            "(29, 3, 5, 'Hero Wins')\n",
            "(30, 5, 5, 'Hero Wins')\n",
            "All heroes data:\n",
            "(1, 'Spider-Man', 'Web-slinging', 'Avengers')\n",
            "(2, 'Iron Man', 'Powered Armor', 'Avengers')\n",
            "(3, 'Batman', 'Genius Detective', 'Justice League')\n",
            "(4, 'Superman', 'Super Strength', 'Justice League')\n",
            "(5, 'Thor', 'God of Thunder', 'Avengers')\n",
            "(6, 'Wonder Woman', 'Amazonian Strength', 'Justice League')\n",
            "(7, 'Black Panther', 'Enhanced Agility', 'Avengers')\n",
            "(8, 'The Flash', 'Super Speed', 'Justice League')\n",
            "(9, 'Hulk', 'Super Strength', 'Avengers')\n",
            "(10, 'Doctor Strange', 'Mystic Arts', 'Avengers')\n",
            "All villains data:\n",
            "(1, 'Green Goblin', 'Terrorize New York')\n",
            "(2, 'Thanos', 'Collect all Infinity Stones')\n",
            "(3, 'Joker', 'Spread chaos in Gotham')\n",
            "(4, 'Lex Luthor', 'Defeat Superman')\n",
            "(5, 'Loki', 'Trick humanity into worshiping him')\n",
            "(6, 'Ultron', 'AI world domination')\n",
            "(7, 'Darkseid', 'Control the universe')\n",
            "(8, 'Venom', 'Consume Spider-Man')\n",
            "(9, 'Magneto', 'Mutant supremacy')\n",
            "(10, 'Red Skull', 'Revive Hydra')\n",
            "Data has been successfully inserted into the tables!\n"
          ]
        }
      ]
    },
    {
      "cell_type": "markdown",
      "id": "33548d9f",
      "metadata": {
        "id": "33548d9f"
      },
      "source": [
        "## Step 3: Querying the Database\n",
        "\n",
        "### Tasks:\n",
        "Write SQL queries to answer the following:\n",
        "1. Retrieve all superheroes and their powers.\n",
        "2. Find all battles where the hero won.\n",
        "3. List all villains and their evil plans.\n",
        "4. Determine which superhero has fought the most battles.\n",
        "\n",
        "✅ **Checkpoint:** Ensure that all queries return meaningful results from the database."
      ]
    },
    {
      "cell_type": "code",
      "source": [
        "print(\"SUPERHEROES/POWERS:\")\n",
        "cursor.execute('''\n",
        "SELECT name, power\n",
        "FROM heroes\n",
        "''')\n",
        "for row in cursor.fetchall():\n",
        "  print(row)\n",
        "\n",
        "\n",
        "print(\"HERO WINS:\")\n",
        "cursor.execute('''\n",
        "SELECT *\n",
        "FROM battles\n",
        "WHERE outcome = 'Hero Wins'\n",
        "''')\n",
        "for row in cursor.fetchall():\n",
        "  print(row)\n",
        "\n",
        "print(\"VILLAINS/PLANS:\")\n",
        "cursor.execute('''\n",
        "SELECT name, evil_plan\n",
        "FROM villains\n",
        "'''\n",
        ")\n",
        "for row in cursor.fetchall():\n",
        "  print(row)\n",
        "\n",
        "print(\"TOP SUPERHERO:\")\n",
        "cursor.execute('''\n",
        "SELECT heroes.name, hero_id, COUNT(hero_id) AS top\n",
        "FROM battles\n",
        "INNER JOIN heroes where battles.hero_id = heroes.id\n",
        "GROUP BY hero_id\n",
        "ORDER BY top DESC\n",
        "'''\n",
        ")\n",
        "for row in cursor.fetchone():\n",
        "  print(row)\n",
        "\n",
        "\n",
        "\n",
        "\n",
        "\n"
      ],
      "metadata": {
        "colab": {
          "base_uri": "https://localhost:8080/"
        },
        "id": "uBnaH-mo_nOL",
        "outputId": "f82b50d5-1f08-4da2-d0e7-b459f5c9e14a"
      },
      "id": "uBnaH-mo_nOL",
      "execution_count": 97,
      "outputs": [
        {
          "output_type": "stream",
          "name": "stdout",
          "text": [
            "SUPERHEROES/POWERS:\n",
            "('Spider-Man', 'Web-slinging')\n",
            "('Iron Man', 'Powered Armor')\n",
            "('Batman', 'Genius Detective')\n",
            "('Superman', 'Super Strength')\n",
            "('Thor', 'God of Thunder')\n",
            "('Wonder Woman', 'Amazonian Strength')\n",
            "('Black Panther', 'Enhanced Agility')\n",
            "('The Flash', 'Super Speed')\n",
            "('Hulk', 'Super Strength')\n",
            "('Doctor Strange', 'Mystic Arts')\n",
            "HERO WINS:\n",
            "(2, 9, 3, 'Hero Wins')\n",
            "(5, 1, 7, 'Hero Wins')\n",
            "(7, 9, 8, 'Hero Wins')\n",
            "(8, 3, 2, 'Hero Wins')\n",
            "(9, 7, 5, 'Hero Wins')\n",
            "(13, 8, 9, 'Hero Wins')\n",
            "(20, 3, 4, 'Hero Wins')\n",
            "(29, 3, 5, 'Hero Wins')\n",
            "(30, 5, 5, 'Hero Wins')\n",
            "VILLAINS/PLANS:\n",
            "('Green Goblin', 'Terrorize New York')\n",
            "('Thanos', 'Collect all Infinity Stones')\n",
            "('Joker', 'Spread chaos in Gotham')\n",
            "('Lex Luthor', 'Defeat Superman')\n",
            "('Loki', 'Trick humanity into worshiping him')\n",
            "('Ultron', 'AI world domination')\n",
            "('Darkseid', 'Control the universe')\n",
            "('Venom', 'Consume Spider-Man')\n",
            "('Magneto', 'Mutant supremacy')\n",
            "('Red Skull', 'Revive Hydra')\n",
            "TOP SUPERHERO:\n",
            "Batman\n",
            "3\n",
            "7\n"
          ]
        }
      ]
    },
    {
      "cell_type": "markdown",
      "id": "de8bda94",
      "metadata": {
        "id": "de8bda94"
      },
      "source": [
        "## Step 4: Add a Custom Feature\n",
        "\n",
        "### Tasks:\n",
        "1. Design and implement an additional table related to superheroes or villains.\n",
        "2. Populate it with data.\n",
        "3. Write at least one query to retrieve meaningful insights from the new table.\n",
        "\n",
        "**Examples of Custom Features:**\n",
        "- Sidekicks for superheroes\n",
        "- Villain hideouts\n",
        "- Battle locations\n",
        "- Superhero equipment\n",
        "\n",
        "✅ **Checkpoint:** Ensure that the new table and queries function correctly."
      ]
    },
    {
      "cell_type": "code",
      "source": [
        "cursor.execute('''\n",
        "CREATE TABLE IF NOT EXISTS sidekicks(\n",
        "id INTEGER PRIMARY KEY AUTOINCREMENT,\n",
        "hero_id INTEGER,\n",
        "sidekick TEXT)\n",
        "''')\n",
        "\n",
        "sidekick_data = [\n",
        "    (2, 'ironboy'),\n",
        "    (1,'spiderboy'),\n",
        "    (5,'thorboy'),\n",
        "    (6, 'wonderboy'),\n",
        "    (7,'pantherboy'),\n",
        "    (3,'batboy'),\n",
        "    (4,'superboy'),\n",
        "    (8,'flashboy'),\n",
        "    (9, 'hulkboy'),\n",
        "    (10, 'littledrstrange')\n",
        "]\n",
        "\n",
        "cursor.execute(\"DELETE FROM sidekicks\")\n",
        "\n",
        "cursor.executemany('''\n",
        "INSERT INTO sidekicks(hero_id, sidekick) VALUES (?, ?)''', sidekick_data)\n",
        "connection.commit()\n",
        "\n",
        "print (\"QUERIES:\")\n",
        "print(\"SIDEKICK TABLE:\")\n",
        "cursor.execute('''\n",
        "SELECT * from sidekicks\n",
        "''')\n",
        "for row in cursor.fetchall():\n",
        " print(row)\n",
        "\n",
        "print (\"Sorting sidekicks by hero id in ascending order:\")\n",
        "cursor.execute('''\n",
        "SELECT sidekicks.hero_id, sidekicks.sidekick\n",
        "FROM sidekicks\n",
        "ORDER BY hero_id ASC\n",
        "\n",
        "''')\n",
        "for row in cursor.fetchall():\n",
        "  print(row)\n",
        "\n",
        "print(\"sidekicks with little in their names:\")\n",
        "cursor.execute('''\n",
        "SELECT sidekick\n",
        "FROM sidekicks\n",
        "WHERE sidekick LIKE 'little%'\n",
        "''')\n",
        "for row in cursor.fetchall():\n",
        "  print(row)\n",
        "\n",
        "\n",
        "\n"
      ],
      "metadata": {
        "colab": {
          "base_uri": "https://localhost:8080/"
        },
        "id": "XiIj6T5YN_xB",
        "outputId": "a9a1b76b-98b4-4d09-dff1-b51471f02e5d"
      },
      "id": "XiIj6T5YN_xB",
      "execution_count": 101,
      "outputs": [
        {
          "output_type": "stream",
          "name": "stdout",
          "text": [
            "QUERIES:\n",
            "SIDEKICK TABLE:\n",
            "(211, 2, 'ironboy')\n",
            "(212, 1, 'spiderboy')\n",
            "(213, 5, 'thorboy')\n",
            "(214, 6, 'wonderboy')\n",
            "(215, 7, 'pantherboy')\n",
            "(216, 3, 'batboy')\n",
            "(217, 4, 'superboy')\n",
            "(218, 8, 'flashboy')\n",
            "(219, 9, 'hulkboy')\n",
            "(220, 10, 'littledrstrange')\n",
            "Sorting sidekicks by hero id in ascending order:\n",
            "(1, 'spiderboy')\n",
            "(2, 'ironboy')\n",
            "(3, 'batboy')\n",
            "(4, 'superboy')\n",
            "(5, 'thorboy')\n",
            "(6, 'wonderboy')\n",
            "(7, 'pantherboy')\n",
            "(8, 'flashboy')\n",
            "(9, 'hulkboy')\n",
            "(10, 'littledrstrange')\n",
            "sidekicks with little in their names:\n",
            "('littledrstrange',)\n"
          ]
        }
      ]
    },
    {
      "cell_type": "markdown",
      "id": "9bf43fe6",
      "metadata": {
        "id": "9bf43fe6"
      },
      "source": [
        "## Bonus Challenge (+5 Points)\n",
        "\n",
        "### Tasks:\n",
        "1. Enhance your project by adding a visual or interactive component.\n",
        "\n",
        "**Options:**\n",
        "- Visualize battles using Matplotlib (e.g., a bar chart showing how many battles each superhero has fought).\n",
        "- Make it interactive (e.g., allow users to input a superhero name and display their battles).\n",
        "\n",
        "✅ **Checkpoint:** If attempting the bonus, ensure that your visualization or interactive component works correctly."
      ]
    },
    {
      "cell_type": "markdown",
      "id": "89f56c05",
      "metadata": {
        "id": "89f56c05"
      },
      "source": [
        "## Submission Guidelines\n",
        "\n",
        "Each group must submit a **Google Colab Notebook (.ipynb)** containing:\n",
        "- ✅ **Database schema (DDL)**\n",
        "- ✅ **CSV imports & data insertion (DML)**\n",
        "- ✅ **SQL queries & results**\n",
        "- ✅ **Custom feature (bonus if applicable)**"
      ]
    },
    {
      "cell_type": "markdown",
      "id": "61477c9b",
      "metadata": {
        "id": "61477c9b"
      },
      "source": [
        "## Grading Criteria (Total: 25 Points)\n",
        "\n",
        "| Section                 | Points |\n",
        "|-------------------------|--------|\n",
        "| Database Setup          | 5      |\n",
        "| Data Importing         | 10     |\n",
        "| Querying the Data      | 10     |\n",
        "| Extra Feature          | 5      |\n",
        "| Bonus Challenge (Optional) | +5  |"
      ]
    },
    {
      "cell_type": "markdown",
      "id": "92bf6839",
      "metadata": {
        "id": "92bf6839"
      },
      "source": [
        "### Final Notes:\n",
        "- Be **creative** when designing superheroes and villains.\n",
        "- **Comment your code** to explain its functionality.\n",
        "- **Have fun** building your superhero universe!"
      ]
    }
  ],
  "metadata": {
    "colab": {
      "provenance": [],
      "include_colab_link": true
    },
    "language_info": {
      "name": "python"
    },
    "kernelspec": {
      "name": "python3",
      "display_name": "Python 3"
    }
  },
  "nbformat": 4,
  "nbformat_minor": 5
}