{
  "nbformat": 4,
  "nbformat_minor": 0,
  "metadata": {
    "colab": {
      "provenance": [],
      "authorship_tag": "ABX9TyO9ipwZeLgJiKEQNg6huiqe",
      "include_colab_link": true
    },
    "kernelspec": {
      "name": "python3",
      "display_name": "Python 3"
    },
    "language_info": {
      "name": "python"
    }
  },
  "cells": [
    {
      "cell_type": "markdown",
      "metadata": {
        "id": "view-in-github",
        "colab_type": "text"
      },
      "source": [
        "<a href=\"https://colab.research.google.com/github/nishanadahal/skills-introduction-to-github/blob/main/FinanceAPIHW.ipynb\" target=\"_parent\"><img src=\"https://colab.research.google.com/assets/colab-badge.svg\" alt=\"Open In Colab\"/></a>"
      ]
    },
    {
      "cell_type": "code",
      "execution_count": 1,
      "metadata": {
        "id": "mvIfcFCKnRrd",
        "collapsed": true,
        "outputId": "9e1d09d9-d22a-4733-ad3b-c76d654a4de2",
        "colab": {
          "base_uri": "https://localhost:8080/"
        }
      },
      "outputs": [
        {
          "output_type": "stream",
          "name": "stdout",
          "text": [
            "Please input two or more stock symbols (comma separated, no space): AAPL,MSFT\n",
            "  symbol displayName  regularMarketPrice\n",
            "0   AAPL       Apple              235.74\n",
            "1   MSFT   Microsoft              401.02\n"
          ]
        }
      ],
      "source": [
        "#Task 1:  Fetch Basic Stock Data\n",
        "\n",
        "\n",
        "import json\n",
        "import pandas as pd\n",
        "import json\n",
        "import requests\n",
        "\n",
        "stocks = input(\"Please input two or more stock symbols (comma separated, no space): \").upper()\n",
        "apikey = \"rYoFuDT38Z2wwi8q97ex30VD0bwac466DnYidM90\"\n",
        "\n",
        "url = \"https://yfapi.net/v6/finance/quote\"\n",
        "\n",
        "querystring = {\"symbols\":stocks}\n",
        "\n",
        "headers = {\n",
        "    'x-api-key': apikey\n",
        "    }\n",
        "\n",
        "response = requests.request(\"GET\", url, headers=headers, params=querystring)\n",
        "if response.status_code == 200:\n",
        "  df = pd.DataFrame(response.json()['quoteResponse']['result'])\n",
        "  print(df[['symbol', 'displayName', 'regularMarketPrice']])\n",
        "else:\n",
        "  print(\"Error: \" + str(response.status_code))"
      ]
    },
    {
      "cell_type": "code",
      "source": [
        "#Task 2: Fetch additional stock data\n",
        "\n",
        "#2.1:\n",
        "\n",
        "stock = input(\"Enter stock symbol: \").upper()\n",
        "module = input(\"Choose a module (financialData for ROA, summaryDetail for 52-week high/low): \").strip()\n",
        "apikey = \"rYoFuDT38Z2wwi8q97ex30VD0bwac466DnYidM90\"\n",
        "headers = {\n",
        "    'x-api-key': apikey\n",
        "}\n",
        "\n",
        "if module not in [\"financialData\", \"summaryDetail\"]:\n",
        "    print(\"Invalid module. Choose 'financialData' or 'summaryDetail'.\")\n",
        "else:\n",
        "    url = f\"https://yfapi.net/v11/finance/quoteSummary/{stock}\"\n",
        "    querystring = {\"modules\": module, \"symbols\": stock}\n",
        "\n",
        "    response = requests.get(url, headers=headers, params=querystring)\n",
        "\n",
        "    if response.status_code == 200:\n",
        "        data = response.json().get('quoteSummary', {}).get('result', [{}])[0]\n",
        "\n",
        "        if module == \"financialData\":\n",
        "            df = pd.DataFrame([data['financialData']])\n",
        "            print(df[['returnOnAssets']])\n",
        "        elif module == \"summaryDetail\":\n",
        "            df = pd.DataFrame([data['summaryDetail']])\n",
        "            print(df[['fiftyTwoWeekLow', 'fiftyTwoWeekHigh']])\n",
        "    else:\n",
        "        print(\"Error getting response\")\n",
        "\n"
      ],
      "metadata": {
        "id": "nILZ3fsss1Iy",
        "colab": {
          "base_uri": "https://localhost:8080/"
        },
        "outputId": "8ad25871-1f4a-4d8a-d59b-22322be62160"
      },
      "execution_count": 3,
      "outputs": [
        {
          "output_type": "stream",
          "name": "stdout",
          "text": [
            "Enter stock symbol: AAPL\n",
            "Choose a module (financialData for ROA, summaryDetail for 52-week high/low): summaryDetail\n",
            "                    fiftyTwoWeekLow                 fiftyTwoWeekHigh\n",
            "0  {'raw': 164.08, 'fmt': '164.08'}  {'raw': 260.1, 'fmt': '260.10'}\n"
          ]
        }
      ]
    },
    {
      "cell_type": "code",
      "source": [
        "#2.2 Fetch additional data using modules (trending)\n",
        "\n",
        "apikey = \"rYoFuDT38Z2wwi8q97ex30VD0bwac466DnYidM90\"\n",
        "headers = {'x-api-key': apikey}\n",
        "\n",
        "url = \"https://yfapi.net/v1/finance/trending/US\"\n",
        "response = requests.get(url, headers=headers)\n",
        "\n",
        "if response.status_code == 200:\n",
        "    t_data = response.json().get('finance', {}).get('result', [{}])[0].get('quotes', [])\n",
        "\n",
        "    if t_data:\n",
        "        tickers = [item.get('symbol', 'N/A') for item in t_data]\n",
        "\n",
        "        for symbol in tickers:\n",
        "            details_url = f\"https://yfapi.net/v6/finance/quote\"\n",
        "            querystring = {\"symbols\": symbol}\n",
        "\n",
        "            response_details = requests.get(details_url, headers=headers, params=querystring)\n",
        "\n",
        "            if response_details.status_code == 200:\n",
        "                stock_data = response_details.json().get('quoteResponse', {}).get('result', [{}])[0]\n",
        "\n",
        "                ticker = stock_data.get(\"symbol\", \"N/A\")\n",
        "                name = stock_data.get(\"longName\", stock_data.get(\"shortName\", \"N/A\"))\n",
        "                price = stock_data.get(\"regularMarketPrice\", \"N/A\")\n",
        "                high_52 = stock_data.get(\"fiftyTwoWeekHigh\", \"N/A\")\n",
        "                low_52 = stock_data.get(\"fiftyTwoWeekLow\", \"N/A\")\n",
        "                print(\"Trending stocks:\")\n",
        "                print(f\"Symbol: {ticker}, Display Name: {name}, Current Market Price: {price}, 52-Week High: {high_52}, 52-Week Low: {low_52}\")\n",
        "            else:\n",
        "                print(f\"Error fetching details for {symbol}\")\n",
        "    else:\n",
        "        print(\"No trending stocks found.\")\n",
        "else:\n",
        "    print(\"Error fetching trending stocks\")\n"
      ],
      "metadata": {
        "id": "Cvgb8IC6yAIY",
        "colab": {
          "base_uri": "https://localhost:8080/"
        },
        "outputId": "8776f6ec-72d2-48c6-e86d-6ea99c61c1fd"
      },
      "execution_count": 4,
      "outputs": [
        {
          "output_type": "stream",
          "name": "stdout",
          "text": [
            "Trending stocks:\n",
            "Symbol: MRVL, Display Name: Marvell Technology, Inc., Current Market Price: 90.14, 52-Week High: 127.48, 52-Week Low: 53.19\n",
            "Trending stocks:\n",
            "Symbol: MDB, Display Name: MongoDB, Inc., Current Market Price: 264.13, 52-Week High: 424.0, 52-Week Low: 212.74\n",
            "Trending stocks:\n",
            "Symbol: BABA, Display Name: Alibaba Group Holding Limited, Current Market Price: 141.03, 52-Week High: 145.3, 52-Week Low: 68.36\n",
            "Trending stocks:\n",
            "Symbol: ZS, Display Name: Zscaler, Inc., Current Market Price: 196.45, 52-Week High: 217.84, 52-Week Low: 153.45\n",
            "Trending stocks:\n",
            "Symbol: AVGO, Display Name: Broadcom Inc., Current Market Price: 191.58, 52-Week High: 251.88, 52-Week Low: 119.756\n",
            "Trending stocks:\n",
            "Symbol: RGTI, Display Name: Rigetti Computing, Inc., Current Market Price: 8.18, 52-Week High: 21.42, 52-Week Low: 0.66\n",
            "Trending stocks:\n",
            "Symbol: GV, Display Name: Visionary Holdings Inc., Current Market Price: 3.695, 52-Week High: 8.85, 52-Week Low: 1.0\n",
            "Trending stocks:\n",
            "Symbol: MRNA, Display Name: Moderna, Inc., Current Market Price: 35.21, 52-Week High: 170.47, 52-Week Low: 29.25\n",
            "Trending stocks:\n",
            "Symbol: VEEV, Display Name: Veeva Systems Inc., Current Market Price: 219.94, 52-Week High: 258.93, 52-Week Low: 170.25\n",
            "Trending stocks:\n",
            "Symbol: TNXP, Display Name: Tonix Pharmaceuticals Holding Corp., Current Market Price: 10.96, 52-Week High: 1216.0, 52-Week Low: 6.76\n",
            "Trending stocks:\n",
            "Symbol: F, Display Name: Ford Motor Company, Current Market Price: 9.65, 52-Week High: 14.85, 52-Week Low: 9.06\n",
            "Trending stocks:\n",
            "Symbol: VSCO, Display Name: Victoria's Secret & Co., Current Market Price: 22.21, 52-Week High: 48.73, 52-Week Low: 15.12\n",
            "Trending stocks:\n",
            "Symbol: STLA, Display Name: Stellantis N.V., Current Market Price: 12.89, 52-Week High: 29.51, 52-Week Low: 11.4\n",
            "Trending stocks:\n",
            "Symbol: JD, Display Name: JD.com, Inc., Current Market Price: 43.76, 52-Week High: 47.82, 52-Week Low: 23.65\n",
            "Trending stocks:\n",
            "Symbol: MP, Display Name: MP Materials Corp., Current Market Price: 25.66, 52-Week High: 26.0, 52-Week Low: 10.02\n",
            "Trending stocks:\n",
            "Symbol: MSFT, Display Name: Microsoft Corporation, Current Market Price: 401.02, 52-Week High: 468.35, 52-Week Low: 381.0\n",
            "Trending stocks:\n",
            "Symbol: ANF, Display Name: Abercrombie & Fitch Co., Current Market Price: 87.23, 52-Week High: 196.99, 52-Week Low: 79.77\n",
            "Trending stocks:\n",
            "Symbol: GM, Display Name: General Motors Company, Current Market Price: 48.48, 52-Week High: 61.24, 52-Week Low: 38.95\n",
            "Trending stocks:\n",
            "Symbol: THO, Display Name: THOR Industries, Inc., Current Market Price: 81.4, 52-Week High: 118.85, 52-Week Low: 78.9\n",
            "Trending stocks:\n",
            "Symbol: NOK, Display Name: Nokia Oyj, Current Market Price: 5.17, 52-Week High: 5.18, 52-Week Low: 3.29\n"
          ]
        }
      ]
    }
  ]
}