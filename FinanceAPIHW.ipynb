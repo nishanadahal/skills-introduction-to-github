{
  "nbformat": 4,
  "nbformat_minor": 0,
  "metadata": {
    "colab": {
      "provenance": [],
      "authorship_tag": "ABX9TyMX16EO16zNi1R7tRUwOh8g",
      "include_colab_link": true
    },
    "kernelspec": {
      "name": "python3",
      "display_name": "Python 3"
    },
    "language_info": {
      "name": "python"
    }
  },
  "cells": [
    {
      "cell_type": "markdown",
      "metadata": {
        "id": "view-in-github",
        "colab_type": "text"
      },
      "source": [
        "<a href=\"https://colab.research.google.com/github/nishanadahal/skills-introduction-to-github/blob/main/FinanceAPIHW.ipynb\" target=\"_parent\"><img src=\"https://colab.research.google.com/assets/colab-badge.svg\" alt=\"Open In Colab\"/></a>"
      ]
    },
    {
      "cell_type": "code",
      "execution_count": null,
      "metadata": {
        "id": "mvIfcFCKnRrd",
        "collapsed": true
      },
      "outputs": [],
      "source": [
        "#Task 1:  Fetch Basic Stock Data\n",
        "\n",
        "\n",
        "import json\n",
        "import pandas as pd\n",
        "import json\n",
        "import requests\n",
        "\n",
        "stocks = input(\"Please input two or more stock symbols (comma separated, no space): \").upper()\n",
        "apikey = \"\"\n",
        "\n",
        "url = \"https://yfapi.net/v6/finance/quote\"\n",
        "\n",
        "querystring = {\"symbols\":stocks}\n",
        "\n",
        "headers = {\n",
        "    'x-api-key': apikey\n",
        "    }\n",
        "\n",
        "response = requests.request(\"GET\", url, headers=headers, params=querystring)\n",
        "if response.status_code == 200:\n",
        "  df = pd.DataFrame(response.json()['quoteResponse']['result'])\n",
        "  print(df[['symbol', 'displayName', 'regularMarketPrice']])\n",
        "else:\n",
        "  print(\"Error: \" + str(response.status_code))"
      ]
    },
    {
      "cell_type": "code",
      "source": [
        "#Task 2: Fetch additional stock data\n",
        "\n",
        "#2.1:\n",
        "\n",
        "stock = input(\"Enter stock symbol: \").upper()\n",
        "module = input(\"Choose a module (financialData for ROA, summaryDetail for 52-week high/low): \").strip()\n",
        "apikey = \"\"\n",
        "headers = {\n",
        "    'x-api-key': apikey\n",
        "}\n",
        "\n",
        "if module not in [\"financialData\", \"summaryDetail\"]:\n",
        "    print(\"Invalid module. Choose 'financialData' or 'summaryDetail'.\")\n",
        "else:\n",
        "    url = f\"https://yfapi.net/v11/finance/quoteSummary/{stock}\"\n",
        "    querystring = {\"modules\": module, \"symbols\": stock}\n",
        "\n",
        "    response = requests.get(url, headers=headers, params=querystring)\n",
        "\n",
        "    if response.status_code == 200:\n",
        "        data = response.json().get('quoteSummary', {}).get('result', [{}])[0]\n",
        "\n",
        "        if module == \"financialData\":\n",
        "            df = pd.DataFrame([data['financialData']])\n",
        "            print(df[['returnOnAssets']])\n",
        "        elif module == \"summaryDetail\":\n",
        "            df = pd.DataFrame([data['summaryDetail']])\n",
        "            print(df[['fiftyTwoWeekLow', 'fiftyTwoWeekHigh']])\n",
        "    else:\n",
        "        print(\"Error getting response\")\n",
        "\n"
      ],
      "metadata": {
        "id": "nILZ3fsss1Iy"
      },
      "execution_count": null,
      "outputs": []
    },
    {
      "cell_type": "code",
      "source": [
        "#2.2 Fetch additional data using modules (trending)\n",
        "\n",
        "apikey = \"\"\n",
        "headers = {'x-api-key': apikey}\n",
        "\n",
        "url = \"https://yfapi.net/v1/finance/trending/US\"\n",
        "response = requests.get(url, headers=headers)\n",
        "\n",
        "if response.status_code == 200:\n",
        "    t_data = response.json().get('finance', {}).get('result', [{}])[0].get('quotes', [])\n",
        "\n",
        "    if t_data:\n",
        "        tickers = [item.get('symbol', 'N/A') for item in t_data]\n",
        "\n",
        "        for symbol in tickers:\n",
        "            details_url = f\"https://yfapi.net/v6/finance/quote\"\n",
        "            querystring = {\"symbols\": symbol}\n",
        "\n",
        "            response_details = requests.get(details_url, headers=headers, params=querystring)\n",
        "\n",
        "            if response_details.status_code == 200:\n",
        "                stock_data = response_details.json().get('quoteResponse', {}).get('result', [{}])[0]\n",
        "\n",
        "                ticker = stock_data.get(\"symbol\", \"N/A\")\n",
        "                name = stock_data.get(\"longName\", stock_data.get(\"shortName\", \"N/A\"))\n",
        "                price = stock_data.get(\"regularMarketPrice\", \"N/A\")\n",
        "                high_52 = stock_data.get(\"fiftyTwoWeekHigh\", \"N/A\")\n",
        "                low_52 = stock_data.get(\"fiftyTwoWeekLow\", \"N/A\")\n",
        "                print(\"Trending stocks:\")\n",
        "                print(f\"Symbol: {ticker}, Display Name: {name}, Current Market Price: {price}, 52-Week High: {high_52}, 52-Week Low: {low_52}\")\n",
        "            else:\n",
        "                print(f\"Error fetching details for {symbol}\")\n",
        "    else:\n",
        "        print(\"No trending stocks found.\")\n",
        "else:\n",
        "    print(\"Error fetching trending stocks\")\n"
      ],
      "metadata": {
        "id": "Cvgb8IC6yAIY"
      },
      "execution_count": null,
      "outputs": []
    }
  ]
}